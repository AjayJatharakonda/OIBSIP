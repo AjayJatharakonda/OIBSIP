{
 "cells": [
  {
   "cell_type": "code",
   "execution_count": 1,
   "id": "375ebcdb",
   "metadata": {},
   "outputs": [],
   "source": [
    "import numpy as np\n",
    "import pandas as pd\n",
    "import matplotlib.pyplot as plt\n",
    "from sklearn import datasets\n",
    "from sklearn.model_selection import train_test_split\n",
    "from sklearn.neighbors import KNeighborsClassifier\n",
    "from sklearn.metrics import confusion_matrix"
   ]
  },
  {
   "cell_type": "code",
   "execution_count": 2,
   "id": "4fcb2d27",
   "metadata": {},
   "outputs": [],
   "source": [
    "df=pd.read_csv('C:\\\\Users\\\\AJAY\\\\Downloads\\\\Irisdata2.csv')"
   ]
  },
  {
   "cell_type": "code",
   "execution_count": 3,
   "id": "fea107d5",
   "metadata": {},
   "outputs": [],
   "source": [
    "df.head()"
   ]
  },
  {
   "cell_type": "code",
   "execution_count": 4,
   "id": "dda5e02c",
   "metadata": {},
   "outputs": [],
   "source": [
    "df.describe()"
   ]
  },
  {
   "cell_type": "code",
   "execution_count": 5,
   "id": "09398f54",
   "metadata": {},
   "outputs": [],
   "source": [
    "X=df.drop(['Id','Species'],axis=1)\n",
    "Y=df[['Species']]"
   ]
  },
  {
   "cell_type": "code",
   "execution_count": 6,
   "id": "6a6d3a49",
   "metadata": {},
   "outputs": [],
   "source": [
    "x_train,x_test,y_train,y_test=train_test_split(X,Y,test_size=0.2)"
   ]
  },
  {
   "cell_type": "code",
   "execution_count": 7,
   "id": "668011b4",
   "metadata": {},
   "outputs": [],
   "source": [
    "x_train.shape"
   ]
  },
  {
   "cell_type": "code",
   "execution_count": 8,
   "id": "64c7947c",
   "metadata": {},
   "outputs": [],
   "source": [
    "x_test.shape"
   ]
  },
  {
   "cell_type": "code",
   "execution_count": 9,
   "id": "12ea90a0",
   "metadata": {},
   "outputs": [],
   "source": [
    "y_train.shape"
   ]
  },
  {
   "cell_type": "code",
   "execution_count": 10,
   "id": "6690679f",
   "metadata": {},
   "outputs": [],
   "source": [
    "y_test.shape"
   ]
  },
  {
   "cell_type": "code",
   "execution_count": 11,
   "id": "845f5a1a",
   "metadata": {},
   "outputs": [],
   "source": [
    "for column in df:\n",
    "    print(column)"
   ]
  },
  {
   "cell_type": "code",
   "execution_count": 12,
   "id": "deecec72",
   "metadata": {},
   "outputs": [],
   "source": [
    "df.isnull().sum()"
   ]
  },
  {
   "cell_type": "code",
   "execution_count": 13,
   "id": "acff249b",
   "metadata": {},
   "outputs": [],
   "source": [
    "import seaborn as sns"
   ]
  },
  {
   "cell_type": "code",
   "execution_count": 14,
   "id": "71ccb316",
   "metadata": {
    "scrolled": false
   },
   "outputs": [],
   "source": [
    "for column in df:\n",
    "    sns.displot(x=column,data=df)"
   ]
  },
  {
   "cell_type": "code",
   "execution_count": 15,
   "id": "2f1a68f5",
   "metadata": {},
   "outputs": [],
   "source": [
    "sns.pairplot(df)"
   ]
  },
  {
   "cell_type": "code",
   "execution_count": 16,
   "id": "84d73a41",
   "metadata": {},
   "outputs": [],
   "source": [
    "import warnings\n",
    "warnings.filterwarnings('ignore')"
   ]
  },
  {
   "cell_type": "code",
   "execution_count": 17,
   "id": "ef41f2a3",
   "metadata": {},
   "outputs": [],
   "source": [
    "df"
   ]
  },
  {
   "cell_type": "code",
   "execution_count": 18,
   "id": "1c630348",
   "metadata": {},
   "outputs": [],
   "source": [
    "knn = KNeighborsClassifier(n_neighbors=3)\n",
    "knn.fit(x_train, y_train)"
   ]
  },
  {
   "cell_type": "code",
   "execution_count": 19,
   "id": "fb516e1e",
   "metadata": {},
   "outputs": [],
   "source": [
    "knn.fit(x_train,y_train)\n",
    "from sklearn.metrics import accuracy_score\n",
    "y_pred=knn.predict(x_test)\n",
    "accuracy = accuracy_score(y_test, y_pred)*100\n",
    "print(accuracy)"
   ]
  },
  {
   "cell_type": "code",
   "execution_count": 22,
   "id": "081b39a5",
   "metadata": {},
   "outputs": [
    {
     "name": "stdout",
     "output_type": "stream",
     "text": [
      "Enter sepal length: 5\n",
      "Enter sepal width: 6\n",
      "Enter sepal length4\n",
      "Enter sepal width9\n"
     ]
    }
   ],
   "source": [
    "sepal_length = float(input(\"Enter sepal length: \"))\n",
    "sepal_width = float(input(\"Enter sepal width: \"))\n",
    "petal_length=float(input(\"Enter sepal length\"))\n",
    "petal_width=float(input(\"Enter sepal width\"))\n",
    "prediction = knn.predict(np.array([[sepal_length, sepal_width, petal_length, petal_width]]))\n",
    "print(\"The flower belongs to class: \", prediction)"
   ]
  },
  {
   "cell_type": "code",
   "execution_count": 23,
   "id": "2d3480c5",
   "metadata": {},
   "outputs": [],
   "source": [
    "cm = confusion_matrix(y_test, y_pred)\n",
    "df_cm = pd.DataFrame(cm, index=[i for i in \"ABC\"],\n",
    "                  columns=[i for i in \"ABC\"])\n",
    "plt.imshow(cm, cmap='hot')\n",
    "plt.colorbar()\n",
    "tick_marks = np.arange(3)\n",
    "plt.xticks(tick_marks, ['A', 'B', 'C'], rotation=45)\n",
    "plt.yticks(tick_marks, ['A', 'B', 'C'])\n",
    "plt.xlabel(\"Predicted Class\")\n",
    "plt.ylabel(\"True Class\")\n",
    "plt.title(\"Confusion Matrix\")\n",
    "plt.tight_layout()\n",
    "plt.show()\n"
   ]
  },
  {
   "cell_type": "code",
   "execution_count": null,
   "id": "67137bcb",
   "metadata": {},
   "outputs": [],
   "source": []
  },
  {
   "cell_type": "code",
   "execution_count": null,
   "id": "b7eb9c0b",
   "metadata": {},
   "outputs": [],
   "source": []
  },
  {
   "cell_type": "code",
   "execution_count": null,
   "id": "5f94136b",
   "metadata": {},
   "outputs": [],
   "source": []
  }
 ],
 "metadata": {
  "kernelspec": {
   "display_name": "Python 3 (ipykernel)",
   "language": "python",
   "name": "python3"
  },
  "language_info": {
   "codemirror_mode": {
    "name": "ipython",
    "version": 3
   },
   "file_extension": ".py",
   "mimetype": "text/x-python",
   "name": "python",
   "nbconvert_exporter": "python",
   "pygments_lexer": "ipython3",
   "version": "3.11.3"
  }
 },
 "nbformat": 4,
 "nbformat_minor": 5
}
